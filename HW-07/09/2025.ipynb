{
  "nbformat": 4,
  "nbformat_minor": 0,
  "metadata": {
    "colab": {
      "provenance": [],
      "authorship_tag": "ABX9TyMqr24pd6ZOlD7fA+InLENj",
      "include_colab_link": true
    },
    "kernelspec": {
      "name": "python3",
      "display_name": "Python 3"
    },
    "language_info": {
      "name": "python"
    }
  },
  "cells": [
    {
      "cell_type": "markdown",
      "metadata": {
        "id": "view-in-github",
        "colab_type": "text"
      },
      "source": [
        "<a href=\"https://colab.research.google.com/github/majharuli0/ca-solutions/blob/main/HW-07/09/2025.ipynb\" target=\"_parent\"><img src=\"https://colab.research.google.com/assets/colab-badge.svg\" alt=\"Open In Colab\"/></a>"
      ]
    },
    {
      "cell_type": "markdown",
      "source": [
        "# **1.Two Print The Summation of 3 Numbers.**\n",
        "\n",
        "Approach:\n",
        "- Take input of 3 number\n",
        "- Add up those number and print"
      ],
      "metadata": {
        "id": "BA-LNKYNrGD4"
      }
    },
    {
      "cell_type": "code",
      "execution_count": 11,
      "metadata": {
        "colab": {
          "base_uri": "https://localhost:8080/"
        },
        "collapsed": true,
        "id": "at36ayR5qRwB",
        "outputId": "94a79c20-0933-46a0-ec7a-8316d4c45235"
      },
      "outputs": [
        {
          "output_type": "stream",
          "name": "stdout",
          "text": [
            "2 3 4\n",
            "9\n"
          ]
        }
      ],
      "source": [
        "def sum_of_three_numbers(a,b,c):\n",
        "  print(a+b+c)\n",
        "\n",
        "n1,n2,n3 = map(int,input().split())\n",
        "sum_of_three_numbers(n1,n2,n3)"
      ]
    },
    {
      "cell_type": "markdown",
      "source": [
        "# **2.To check a number is even/odd.**\n",
        "\n",
        "Aproach:\n",
        "- Take input of 1 number\n",
        "- Check the number is divisable by 2 and the result is equal to 1 or 0\n",
        "- if result of divition is 0 mark it as even if 1 then odd"
      ],
      "metadata": {
        "id": "fWlj7WOCsM1L"
      }
    },
    {
      "cell_type": "code",
      "source": [
        "def odd_or_even(n):\n",
        "  if(n%2 == 0):\n",
        "    print(\"Even\")\n",
        "  else:\n",
        "    print(\"Odd\")\n",
        "\n",
        "n = int(input())\n",
        "odd_or_even(n)\n"
      ],
      "metadata": {
        "colab": {
          "base_uri": "https://localhost:8080/"
        },
        "collapsed": true,
        "id": "Bt6GW4sdrwgV",
        "outputId": "c4077a12-6255-44d0-9a38-4fbcd82f843d"
      },
      "execution_count": 10,
      "outputs": [
        {
          "output_type": "stream",
          "name": "stdout",
          "text": [
            "5\n",
            "Odd\n"
          ]
        }
      ]
    },
    {
      "cell_type": "markdown",
      "source": [
        "3."
      ],
      "metadata": {
        "id": "RkZyIq8HtMIn"
      }
    },
    {
      "cell_type": "code",
      "source": [],
      "metadata": {
        "id": "LXE4hWZFtFDw"
      },
      "execution_count": null,
      "outputs": []
    }
  ]
}
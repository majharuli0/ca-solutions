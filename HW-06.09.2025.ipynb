{
  "nbformat": 4,
  "nbformat_minor": 0,
  "metadata": {
    "colab": {
      "provenance": [],
      "authorship_tag": "ABX9TyN3FaL4LAiZifpPFVsNHIq4",
      "include_colab_link": true
    },
    "kernelspec": {
      "name": "python3",
      "display_name": "Python 3"
    },
    "language_info": {
      "name": "python"
    }
  },
  "cells": [
    {
      "cell_type": "markdown",
      "metadata": {
        "id": "view-in-github",
        "colab_type": "text"
      },
      "source": [
        "<a href=\"https://colab.research.google.com/github/majharuli0/ca-solutions/blob/main/HW-06.09.2025.ipynb\" target=\"_parent\"><img src=\"https://colab.research.google.com/assets/colab-badge.svg\" alt=\"Open In Colab\"/></a>"
      ]
    },
    {
      "cell_type": "markdown",
      "source": [
        "# **1.Two Print The Summation of 3 Numbers.**\n",
        "\n",
        "Approach:\n",
        "- Take input of 3 number\n",
        "- Add up those number and print"
      ],
      "metadata": {
        "id": "BA-LNKYNrGD4"
      }
    },
    {
      "cell_type": "code",
      "execution_count": 11,
      "metadata": {
        "colab": {
          "base_uri": "https://localhost:8080/"
        },
        "collapsed": true,
        "id": "at36ayR5qRwB",
        "outputId": "94a79c20-0933-46a0-ec7a-8316d4c45235"
      },
      "outputs": [
        {
          "output_type": "stream",
          "name": "stdout",
          "text": [
            "2 3 4\n",
            "9\n"
          ]
        }
      ],
      "source": [
        "def sum_of_three_numbers(a,b,c):\n",
        "  print(a+b+c)\n",
        "\n",
        "n1,n2,n3 = map(int,input().split())\n",
        "sum_of_three_numbers(n1,n2,n3)"
      ]
    },
    {
      "cell_type": "markdown",
      "source": [
        "# **2.To check a number is even/odd.**\n",
        "\n",
        "Aproach:\n",
        "- Take input of 1 number\n",
        "- Check the number is divisable by 2 and the result is equal to 1 or 0\n",
        "- if result of divition is 0 mark it as even if 1 then odd"
      ],
      "metadata": {
        "id": "fWlj7WOCsM1L"
      }
    },
    {
      "cell_type": "code",
      "source": [
        "def odd_or_even(n):\n",
        "  if(n%2 == 0):\n",
        "    print(\"Even\")\n",
        "  else:\n",
        "    print(\"Odd\")\n",
        "\n",
        "n = int(input(\"Enter The Number: \"))\n",
        "odd_or_even(n)\n"
      ],
      "metadata": {
        "colab": {
          "base_uri": "https://localhost:8080/"
        },
        "collapsed": true,
        "id": "Bt6GW4sdrwgV",
        "outputId": "c4077a12-6255-44d0-9a38-4fbcd82f843d"
      },
      "execution_count": 10,
      "outputs": [
        {
          "output_type": "stream",
          "name": "stdout",
          "text": [
            "5\n",
            "Odd\n"
          ]
        }
      ]
    },
    {
      "cell_type": "markdown",
      "source": [
        "3."
      ],
      "metadata": {
        "id": "RkZyIq8HtMIn"
      }
    },
    {
      "cell_type": "markdown",
      "source": [
        "# **3.To check year is leap year or not.**\n",
        "\n",
        "Approach:\n",
        "- Take a number as input\n",
        "- The Number should be divisible by 4 with 0 reminder then the same number should not be divisible by 100 with 0 reminder\n",
        "\n",
        "- Or if the year is a century year then it must be divisible by 400\n"
      ],
      "metadata": {
        "id": "0bho9NfiupE7"
      }
    },
    {
      "cell_type": "code",
      "source": [
        "def is_leap_year(year):\n",
        "  if(year%4 == 0 and year%100 != 0):\n",
        "    print(\"Leap Year\")\n",
        "  elif(year%400 == 0):\n",
        "    print(\"Leap Year\")\n",
        "  else:\n",
        "    print(\"Not Leap Year\")\n",
        "\n",
        "year = int(input(\"Enter the year: \"))\n",
        "is_leap_year(year)"
      ],
      "metadata": {
        "id": "LXE4hWZFtFDw"
      },
      "execution_count": null,
      "outputs": []
    },
    {
      "cell_type": "markdown",
      "source": [
        "# **4.To print the summation of divisors of a number**\n",
        "\n",
        "Approach:\n",
        "- Take a number as input (N)\n",
        "- We will check all the numbers that are divisible so here is the method we gonna use:\n",
        "  - Loop will continue  if (i*i <= N), (or i <= sqrt(N), it's not much better I think)\n",
        "  - Next will check is that number is divisible by  N and Reminder is 0. So, this is our divisors also if we divide this number with N the result also a divisor and lastly we must need a checker there the number/N != number\n",
        "- after all print or return the result\n"
      ],
      "metadata": {
        "id": "yPXEbe_qwYA2"
      }
    },
    {
      "cell_type": "code",
      "source": [
        "def summation_of_divisors(N):\n",
        "  total = 0\n",
        "  i = 1\n",
        "  while(i*i <= N):\n",
        "    if(N%i == 0):\n",
        "      total += i\n",
        "      if(N/i != i):\n",
        "        total += N/i\n",
        "    i += 1\n",
        "  return total\n",
        "N = int(input(\"Enter the number: \"))\n",
        "print(summation_of_divisors(N))\n"
      ],
      "metadata": {
        "colab": {
          "base_uri": "https://localhost:8080/"
        },
        "collapsed": true,
        "id": "lDhkSP3nwYA2",
        "outputId": "36cec77c-bca1-424b-e38f-05310d5fb772"
      },
      "execution_count": 15,
      "outputs": [
        {
          "output_type": "stream",
          "name": "stdout",
          "text": [
            "Enter the number: 5\n",
            "6.0\n"
          ]
        }
      ]
    },
    {
      "cell_type": "markdown",
      "source": [
        "# **5.To print the GCD and LCM of 2 numbers**\n",
        "\n",
        "Approach:\n",
        "- Take two numbers a and b.\n",
        "- Make sure a >= b.\n",
        "  - If not, swap them.\n",
        "- GCD(euclidean algorithm):\n",
        "  - While b is not 0:\n",
        "    - Replace a with b and b with a % b.\n",
        "  - When b becomes 0, a is the GCD.\n",
        "  \n",
        "- LCM:\n",
        "  - temp_a*temp_b/GCD\n",
        "\n",
        "- Print Both Values\n"
      ],
      "metadata": {
        "id": "U6lIP5Fox1an"
      }
    },
    {
      "cell_type": "code",
      "source": [
        "def GCD_LCM(a,b):\n",
        "  temp_a = a\n",
        "  temp_b = b\n",
        "  if(a < b):\n",
        "    a,b = b,a\n",
        "  while b != 0:\n",
        "    a,b = b, a%b\n",
        "  print(\"GCD: \",a)\n",
        "  print(\"LCM: \",temp_a*temp_b/a)\n",
        "\n",
        "a,b = map(int,input().split())\n",
        "GCD_LCM(a,b)\n",
        ""
      ],
      "metadata": {
        "colab": {
          "base_uri": "https://localhost:8080/"
        },
        "id": "6ZU8hlkTx4A_",
        "outputId": "a47b1a83-581d-446f-8427-f4353154dd5b"
      },
      "execution_count": 17,
      "outputs": [
        {
          "output_type": "stream",
          "name": "stdout",
          "text": [
            "50 40\n",
            "GCD:  10\n",
            "LCM:  200.0\n"
          ]
        }
      ]
    },
    {
      "cell_type": "code",
      "source": [],
      "metadata": {
        "id": "xJvzB3v08HwF"
      },
      "execution_count": null,
      "outputs": []
    }
  ]
}